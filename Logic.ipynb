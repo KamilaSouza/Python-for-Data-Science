{
  "cells": [
    {
      "cell_type": "markdown",
      "metadata": {
        "id": "XPVvdJBCgNIs"
      },
      "source": [
        "# Programming Logic with Python"
      ]
    },
    {
      "cell_type": "code",
      "execution_count": 39,
      "metadata": {
        "id": "Bg5581jZfpu1"
      },
      "outputs": [],
      "source": [
        "name = 'Kamila'"
      ]
    },
    {
      "cell_type": "code",
      "execution_count": 40,
      "metadata": {
        "id": "dk__xmPCgQ5d"
      },
      "outputs": [],
      "source": [
        "age = 29"
      ]
    },
    {
      "cell_type": "code",
      "execution_count": 41,
      "metadata": {
        "colab": {
          "base_uri": "https://localhost:8080/"
        },
        "id": "X5klEflShkA-",
        "outputId": "23dccf8d-00f0-4cc2-ffaf-df4b47b2e268"
      },
      "outputs": [
        {
          "name": "stdout",
          "output_type": "stream",
          "text": [
            "Name Kamila, age 29\n"
          ]
        }
      ],
      "source": [
        "print (f'Name {name}, age {age}')"
      ]
    },
    {
      "cell_type": "markdown",
      "metadata": {
        "id": "25BOQjdAi-kf"
      },
      "source": [
        "# My first function"
      ]
    },
    {
      "cell_type": "code",
      "execution_count": 42,
      "metadata": {
        "id": "SKq7IA6tjAgd"
      },
      "outputs": [],
      "source": [
        "def greeting():\n",
        "  name = input('What is your name? ')\n",
        "  print (f'Hello {name}!')"
      ]
    },
    {
      "cell_type": "code",
      "execution_count": 43,
      "metadata": {
        "colab": {
          "base_uri": "https://localhost:8080/"
        },
        "id": "EXGumJAOj7so",
        "outputId": "67dedae7-8bf7-42d2-b847-ca0533275dfa"
      },
      "outputs": [
        {
          "name": "stdout",
          "output_type": "stream",
          "text": [
            "Hello Kamila!\n"
          ]
        }
      ],
      "source": [
        "greeting()"
      ]
    },
    {
      "cell_type": "markdown",
      "metadata": {},
      "source": [
        "# Parameters"
      ]
    },
    {
      "cell_type": "code",
      "execution_count": 44,
      "metadata": {
        "id": "ewOQfR5Rj-Yt"
      },
      "outputs": [],
      "source": [
        "name = 'Luiza'"
      ]
    },
    {
      "cell_type": "code",
      "execution_count": 45,
      "metadata": {},
      "outputs": [],
      "source": [
        "def greeting_with_parameter(person_name):\n",
        "    print(f'Hello {person_name}')\n"
      ]
    },
    {
      "cell_type": "code",
      "execution_count": 46,
      "metadata": {},
      "outputs": [
        {
          "name": "stdout",
          "output_type": "stream",
          "text": [
            "Hello Luiza\n"
          ]
        }
      ],
      "source": [
        "greeting_with_parameter(name)"
      ]
    },
    {
      "cell_type": "markdown",
      "metadata": {},
      "source": [
        "# Conditional"
      ]
    },
    {
      "cell_type": "code",
      "execution_count": 47,
      "metadata": {},
      "outputs": [
        {
          "name": "stdout",
          "output_type": "stream",
          "text": [
            "You can not drive\n"
          ]
        }
      ],
      "source": [
        "age = 15\n",
        "\n",
        "def can_drive(age):\n",
        "    if age >= 18:\n",
        "        print('You can drive')\n",
        "    else:\n",
        "        print('You can not drive')\n",
        "\n",
        "\n",
        "can_drive(age)\n"
      ]
    },
    {
      "cell_type": "markdown",
      "metadata": {},
      "source": [
        "# Casting"
      ]
    },
    {
      "cell_type": "code",
      "execution_count": 48,
      "metadata": {},
      "outputs": [
        {
          "name": "stdout",
          "output_type": "stream",
          "text": [
            "You can drive\n"
          ]
        }
      ],
      "source": [
        "def can_drive_without_parameters():\n",
        "    age = input(\"How old are you?\")\n",
        "    age = int(age)\n",
        "    if age >= 18:\n",
        "        print('You can drive')\n",
        "    else:\n",
        "        print('You can not drive')\n",
        "\n",
        "can_drive_without_parameters()\n"
      ]
    },
    {
      "cell_type": "markdown",
      "metadata": {},
      "source": [
        "# Lists"
      ]
    },
    {
      "cell_type": "code",
      "execution_count": 49,
      "metadata": {},
      "outputs": [
        {
          "data": {
            "text/plain": [
              "int"
            ]
          },
          "execution_count": 49,
          "metadata": {},
          "output_type": "execute_result"
        }
      ],
      "source": [
        "age = 22\n",
        "type(age)\n"
      ]
    },
    {
      "cell_type": "code",
      "execution_count": 50,
      "metadata": {},
      "outputs": [
        {
          "data": {
            "text/plain": [
              "str"
            ]
          },
          "execution_count": 50,
          "metadata": {},
          "output_type": "execute_result"
        }
      ],
      "source": [
        "name = 'Pedro'\n",
        "type(name)\n"
      ]
    },
    {
      "cell_type": "code",
      "execution_count": 51,
      "metadata": {},
      "outputs": [
        {
          "data": {
            "text/plain": [
              "list"
            ]
          },
          "execution_count": 51,
          "metadata": {},
          "output_type": "execute_result"
        }
      ],
      "source": [
        "age_list = [15, 18, 20, 22]\n",
        "type(age_list)\n"
      ]
    },
    {
      "cell_type": "code",
      "execution_count": 52,
      "metadata": {},
      "outputs": [
        {
          "data": {
            "text/plain": [
              "20"
            ]
          },
          "execution_count": 52,
          "metadata": {},
          "output_type": "execute_result"
        }
      ],
      "source": [
        "age_list[2]\n"
      ]
    },
    {
      "cell_type": "code",
      "execution_count": 53,
      "metadata": {},
      "outputs": [
        {
          "data": {
            "text/plain": [
              "[15, 18, 20]"
            ]
          },
          "execution_count": 53,
          "metadata": {},
          "output_type": "execute_result"
        }
      ],
      "source": [
        "age_list[0:3]  # from 0 to 2 (3-1)\n"
      ]
    },
    {
      "cell_type": "code",
      "execution_count": 54,
      "metadata": {},
      "outputs": [
        {
          "data": {
            "text/plain": [
              "[18, 20, 22]"
            ]
          },
          "execution_count": 54,
          "metadata": {},
          "output_type": "execute_result"
        }
      ],
      "source": [
        "age_list[1:]  # from 1 to last\n"
      ]
    },
    {
      "cell_type": "code",
      "execution_count": 55,
      "metadata": {},
      "outputs": [
        {
          "data": {
            "text/plain": [
              "22"
            ]
          },
          "execution_count": 55,
          "metadata": {},
          "output_type": "execute_result"
        }
      ],
      "source": [
        "age_list[-1]  # 0 -3 -2 -1\n"
      ]
    },
    {
      "cell_type": "markdown",
      "metadata": {},
      "source": [
        "# Loops"
      ]
    },
    {
      "cell_type": "code",
      "execution_count": 56,
      "metadata": {},
      "outputs": [
        {
          "name": "stdout",
          "output_type": "stream",
          "text": [
            " Your are 15 years old, you can not drive.\n",
            " Your are 18 years old, you can drive.\n",
            " Your are 20 years old, you can drive.\n",
            " Your are 22 years old, you can drive.\n"
          ]
        }
      ],
      "source": [
        "age_list = [15, 18, 20, 22]\n",
        "\n",
        "# for outside function\n",
        "\n",
        "def can_drive(age):\n",
        "    if age >= 18:\n",
        "        print(f' Your are {age} years old, you can drive.')\n",
        "    else:\n",
        "        print(f' Your are {age} years old, you can not drive.')\n",
        "\n",
        "\n",
        "for age in age_list:\n",
        "    can_drive(age)\n"
      ]
    },
    {
      "cell_type": "code",
      "execution_count": 57,
      "metadata": {},
      "outputs": [
        {
          "name": "stdout",
          "output_type": "stream",
          "text": [
            " Your are 15 years old, you can not drive.\n",
            " Your are 18 years old, you can drive.\n",
            " Your are 20 years old, you can drive.\n",
            " Your are 22 years old, you can drive.\n"
          ]
        }
      ],
      "source": [
        "# for inside function\n",
        "\n",
        "def can_drive(age_list):\n",
        "    for age in age_list:\n",
        "        if age >= 18:\n",
        "            print(f' Your are {age} years old, you can drive.')\n",
        "        else:\n",
        "            print(f' Your are {age} years old, you can not drive.')\n",
        "\n",
        "\n",
        "can_drive(age_list)\n"
      ]
    },
    {
      "cell_type": "markdown",
      "metadata": {},
      "source": [
        "# Boolean"
      ]
    },
    {
      "cell_type": "code",
      "execution_count": 58,
      "metadata": {},
      "outputs": [
        {
          "data": {
            "text/plain": [
              "True"
            ]
          },
          "execution_count": 58,
          "metadata": {},
          "output_type": "execute_result"
        }
      ],
      "source": [
        "age = 18\n",
        "age >= 18"
      ]
    },
    {
      "cell_type": "code",
      "execution_count": 59,
      "metadata": {},
      "outputs": [
        {
          "name": "stdout",
          "output_type": "stream",
          "text": [
            "[True, False, True]\n"
          ]
        }
      ],
      "source": [
        "permissions = []\n",
        "age_list = [20, 14, 40]\n",
        "\n",
        "\n",
        "def can_drive(age_list, permissions):\n",
        "    for age in age_list:\n",
        "        if age >= 18:\n",
        "            permissions.append(True)\n",
        "        else:\n",
        "            permissions.append(False)\n",
        "\n",
        "\n",
        "can_drive(age_list, permissions)\n",
        "print(permissions)\n"
      ]
    },
    {
      "cell_type": "code",
      "execution_count": 60,
      "metadata": {},
      "outputs": [
        {
          "name": "stdout",
          "output_type": "stream",
          "text": [
            "You can drive.\n",
            "You can not drive.\n",
            "You can drive.\n"
          ]
        }
      ],
      "source": [
        "for permission in permissions:\n",
        "    if permission == True:\n",
        "        print('You can drive.')\n",
        "    else:\n",
        "        print('You can not drive.')\n"
      ]
    },
    {
      "cell_type": "markdown",
      "metadata": {},
      "source": [
        "# Types in a list"
      ]
    },
    {
      "cell_type": "code",
      "execution_count": 61,
      "metadata": {},
      "outputs": [
        {
          "name": "stdout",
          "output_type": "stream",
          "text": [
            "The element Kamila type is: <class 'str'>\n",
            "The element 28 type is: <class 'int'>\n",
            "The element True type is: <class 'bool'>\n",
            "The element 18 type is: <class 'str'>\n"
          ]
        }
      ],
      "source": [
        "list1 = ['Kamila', 28, True, '18']\n",
        "\n",
        "for element in list1:\n",
        "    print(f'The element {element} type is:', type(element))"
      ]
    },
    {
      "cell_type": "markdown",
      "metadata": {},
      "source": [
        "# Imports "
      ]
    },
    {
      "cell_type": "code",
      "execution_count": 62,
      "metadata": {},
      "outputs": [],
      "source": [
        "from random import randrange, seed"
      ]
    },
    {
      "cell_type": "code",
      "execution_count": 63,
      "metadata": {},
      "outputs": [],
      "source": [
        "seed(11)"
      ]
    },
    {
      "cell_type": "code",
      "execution_count": 64,
      "metadata": {},
      "outputs": [
        {
          "data": {
            "text/plain": [
              "7"
            ]
          },
          "execution_count": 64,
          "metadata": {},
          "output_type": "execute_result"
        }
      ],
      "source": [
        "randrange(0, 11)"
      ]
    },
    {
      "cell_type": "code",
      "execution_count": 65,
      "metadata": {},
      "outputs": [
        {
          "data": {
            "text/plain": [
              "[8, 7, 7, 8, 9, 3, 2, 8]"
            ]
          },
          "execution_count": 65,
          "metadata": {},
          "output_type": "execute_result"
        }
      ],
      "source": [
        "math_grades = []\n",
        "\n",
        "for grades in range(8):\n",
        "    math_grades.append(randrange(0, 11))\n",
        "    \n",
        "math_grades"
      ]
    },
    {
      "cell_type": "markdown",
      "metadata": {},
      "source": [
        "# Mathplotlib"
      ]
    },
    {
      "cell_type": "code",
      "execution_count": 66,
      "metadata": {},
      "outputs": [],
      "source": [
        "import matplotlib.pyplot as plt"
      ]
    },
    {
      "cell_type": "code",
      "execution_count": 67,
      "metadata": {},
      "outputs": [
        {
          "data": {
            "image/png": "[encoded data removed]",
            "text/plain": [
              "<Figure size 640x480 with 1 Axes>"
            ]
          },
          "metadata": {},
          "output_type": "display_data"
        }
      ],
      "source": [
        "x = list(range(1, 9))\n",
        "y = math_grades\n",
        "plt.plot(x, y, marker='o')\n",
        "plt.title('Math grades')\n",
        "plt.xlabel('Tests')\n",
        "plt.ylabel('Grades')\n",
        "plt.show()"
      ]
    },
    {
      "cell_type": "code",
      "execution_count": null,
      "metadata": {},
      "outputs": [],
      "source": []
    },
    {
      "cell_type": "markdown",
      "metadata": {},
      "source": [
        "# Exercise"
      ]
    },
    {
      "cell_type": "code",
      "execution_count": 4,
      "metadata": {},
      "outputs": [
        {
          "data": {
            "image/png": "[encoded data removed]",
            "text/plain": [
              "<Figure size 640x480 with 1 Axes>"
            ]
          },
          "metadata": {},
          "output_type": "display_data"
        },
        {
          "data": {
            "image/png": "[encoded data removed]",
            "text/plain": [
              "<Figure size 640x480 with 1 Axes>"
            ]
          },
          "metadata": {},
          "output_type": "display_data"
        },
        {
          "data": {
            "image/png": "[encoded data removed]",
            "text/plain": [
              "<Figure size 640x480 with 1 Axes>"
            ]
          },
          "metadata": {},
          "output_type": "display_data"
        }
      ],
      "source": [
        "import matplotlib.pyplot as plt\n",
        "\n",
        "math = ['Math',8,7,6,6,7,7,8,10]\n",
        "english = ['English',9,9,9,8,5,6,8,5]\n",
        "geography = ['Geo',10,10,6,7,7,7,8,7]\n",
        "\n",
        "grades = [math, english, geography]\n",
        "for grade in grades:\n",
        " x = list(range(1, 9))\n",
        " y = grade[1:]\n",
        " plt.plot(x, y, marker='o')\n",
        " plt.xlabel('Tests')\n",
        " plt.ylabel('Grades')\n",
        " plt.title(grade[0])\n",
        " plt.show()"
      ]
    }
  ],
  "metadata": {
    "colab": {
      "provenance": []
    },
    "kernelspec": {
      "display_name": "Python 3.10.7 64-bit",
      "language": "python",
      "name": "python3"
    },
    "language_info": {
      "codemirror_mode": {
        "name": "ipython",
        "version": 3
      },
      "file_extension": ".py",
      "mimetype": "text/x-python",
      "name": "python",
      "nbconvert_exporter": "python",
      "pygments_lexer": "ipython3",
      "version": "3.10.7"
    },
    "vscode": {
      "interpreter": {
        "hash": "413f823884445dfa7b0c357959fdb4fe304155c50a7c486c393acc7d26d62846"
      }
    }
  },
  "nbformat": 4,
  "nbformat_minor": 0
}
