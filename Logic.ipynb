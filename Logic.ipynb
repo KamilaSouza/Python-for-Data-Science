{
  "cells": [
    {
      "cell_type": "markdown",
      "metadata": {
        "id": "XPVvdJBCgNIs"
      },
      "source": [
        "# Programming Logic with Python"
      ]
    },
    {
      "cell_type": "code",
      "execution_count": 2,
      "metadata": {
        "id": "Bg5581jZfpu1"
      },
      "outputs": [],
      "source": [
        "name = 'Kamila'"
      ]
    },
    {
      "cell_type": "code",
      "execution_count": 3,
      "metadata": {
        "id": "dk__xmPCgQ5d"
      },
      "outputs": [],
      "source": [
        "age = 29"
      ]
    },
    {
      "cell_type": "code",
      "execution_count": 9,
      "metadata": {
        "colab": {
          "base_uri": "https://localhost:8080/"
        },
        "id": "X5klEflShkA-",
        "outputId": "23dccf8d-00f0-4cc2-ffaf-df4b47b2e268"
      },
      "outputs": [
        {
          "name": "stdout",
          "output_type": "stream",
          "text": [
            "Name Kamila, age 29\n"
          ]
        }
      ],
      "source": [
        "print (f'Name {name}, age {age}')"
      ]
    },
    {
      "cell_type": "markdown",
      "metadata": {
        "id": "25BOQjdAi-kf"
      },
      "source": [
        "# My first function"
      ]
    },
    {
      "cell_type": "code",
      "execution_count": 12,
      "metadata": {
        "id": "SKq7IA6tjAgd"
      },
      "outputs": [],
      "source": [
        "def greeting():\n",
        "  name = input('What is your name? ')\n",
        "  print (f'Hello {name}!')"
      ]
    },
    {
      "cell_type": "code",
      "execution_count": 14,
      "metadata": {
        "colab": {
          "base_uri": "https://localhost:8080/"
        },
        "id": "EXGumJAOj7so",
        "outputId": "67dedae7-8bf7-42d2-b847-ca0533275dfa"
      },
      "outputs": [
        {
          "name": "stdout",
          "output_type": "stream",
          "text": [
            "What is your name? kami\n",
            "Hello kami!\n"
          ]
        }
      ],
      "source": [
        "greeting()"
      ]
    },
    {
      "cell_type": "code",
      "execution_count": null,
      "metadata": {
        "id": "ewOQfR5Rj-Yt"
      },
      "outputs": [],
      "source": []
    }
  ],
  "metadata": {
    "colab": {
      "provenance": []
    },
    "kernelspec": {
      "display_name": "Python 3",
      "name": "python3"
    },
    "language_info": {
      "name": "python"
    }
  },
  "nbformat": 4,
  "nbformat_minor": 0
}
