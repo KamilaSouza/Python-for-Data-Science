{
  "cells": [
    {
      "cell_type": "markdown",
      "metadata": {
        "id": "XPVvdJBCgNIs"
      },
      "source": [
        "# Programming Logic with Python"
      ]
    },
    {
      "cell_type": "code",
      "execution_count": 4,
      "metadata": {
        "id": "Bg5581jZfpu1"
      },
      "outputs": [],
      "source": [
        "name = 'Kamila'"
      ]
    },
    {
      "cell_type": "code",
      "execution_count": 3,
      "metadata": {
        "id": "dk__xmPCgQ5d"
      },
      "outputs": [],
      "source": [
        "age = 29"
      ]
    },
    {
      "cell_type": "code",
      "execution_count": 9,
      "metadata": {
        "colab": {
          "base_uri": "https://localhost:8080/"
        },
        "id": "X5klEflShkA-",
        "outputId": "23dccf8d-00f0-4cc2-ffaf-df4b47b2e268"
      },
      "outputs": [
        {
          "name": "stdout",
          "output_type": "stream",
          "text": [
            "Name Kamila, age 29\n"
          ]
        }
      ],
      "source": [
        "print (f'Name {name}, age {age}')"
      ]
    },
    {
      "cell_type": "markdown",
      "metadata": {
        "id": "25BOQjdAi-kf"
      },
      "source": [
        "# My first function"
      ]
    },
    {
      "cell_type": "code",
      "execution_count": 12,
      "metadata": {
        "id": "SKq7IA6tjAgd"
      },
      "outputs": [],
      "source": [
        "def greeting():\n",
        "  name = input('What is your name? ')\n",
        "  print (f'Hello {name}!')"
      ]
    },
    {
      "cell_type": "code",
      "execution_count": 14,
      "metadata": {
        "colab": {
          "base_uri": "https://localhost:8080/"
        },
        "id": "EXGumJAOj7so",
        "outputId": "67dedae7-8bf7-42d2-b847-ca0533275dfa"
      },
      "outputs": [
        {
          "name": "stdout",
          "output_type": "stream",
          "text": [
            "What is your name? kami\n",
            "Hello kami!\n"
          ]
        }
      ],
      "source": [
        "greeting()"
      ]
    },
    {
      "cell_type": "markdown",
      "metadata": {},
      "source": [
        "# Parameters"
      ]
    },
    {
      "cell_type": "code",
      "execution_count": 1,
      "metadata": {
        "id": "ewOQfR5Rj-Yt"
      },
      "outputs": [],
      "source": [
        "name = 'Luiza'"
      ]
    },
    {
      "cell_type": "code",
      "execution_count": 2,
      "metadata": {},
      "outputs": [],
      "source": [
        "def greeting_with_parameter(person_name):\n",
        "    print(f'Hello {person_name}')\n"
      ]
    },
    {
      "cell_type": "code",
      "execution_count": 3,
      "metadata": {},
      "outputs": [
        {
          "name": "stdout",
          "output_type": "stream",
          "text": [
            "Hello Luiza\n"
          ]
        }
      ],
      "source": [
        "greeting_with_parameter(name)"
      ]
    },
    {
      "cell_type": "markdown",
      "metadata": {},
      "source": [
        "# Conditional"
      ]
    },
    {
      "cell_type": "code",
      "execution_count": 24,
      "metadata": {},
      "outputs": [
        {
          "name": "stdout",
          "output_type": "stream",
          "text": [
            "You can not drive\n"
          ]
        }
      ],
      "source": [
        "age = 15\n",
        "\n",
        "def can_drive(age):\n",
        "    if age >= 18:\n",
        "        print('You can drive')\n",
        "    else:\n",
        "        print('You can not drive')\n",
        "\n",
        "\n",
        "can_drive(age)\n"
      ]
    },
    {
      "cell_type": "markdown",
      "metadata": {},
      "source": [
        "# Casting"
      ]
    },
    {
      "cell_type": "code",
      "execution_count": 10,
      "metadata": {},
      "outputs": [
        {
          "name": "stdout",
          "output_type": "stream",
          "text": [
            "Can drive\n"
          ]
        }
      ],
      "source": [
        "def can_drive_without_parameters():\n",
        "    age = input(\"How old are you?\")\n",
        "    age = int(age)\n",
        "    if age >= 18:\n",
        "        print('You can drive')\n",
        "    else:\n",
        "        print('You can not drive')\n",
        "\n",
        "can_drive_without_parameters()\n"
      ]
    },
    {
      "cell_type": "markdown",
      "metadata": {},
      "source": [
        "# Lists"
      ]
    },
    {
      "cell_type": "code",
      "execution_count": 11,
      "metadata": {},
      "outputs": [
        {
          "data": {
            "text/plain": [
              "int"
            ]
          },
          "execution_count": 11,
          "metadata": {},
          "output_type": "execute_result"
        }
      ],
      "source": [
        "age = 22\n",
        "type(age)\n"
      ]
    },
    {
      "cell_type": "code",
      "execution_count": 12,
      "metadata": {},
      "outputs": [
        {
          "data": {
            "text/plain": [
              "str"
            ]
          },
          "execution_count": 12,
          "metadata": {},
          "output_type": "execute_result"
        }
      ],
      "source": [
        "name = 'Pedro'\n",
        "type(name)\n"
      ]
    },
    {
      "cell_type": "code",
      "execution_count": 26,
      "metadata": {},
      "outputs": [
        {
          "data": {
            "text/plain": [
              "list"
            ]
          },
          "execution_count": 26,
          "metadata": {},
          "output_type": "execute_result"
        }
      ],
      "source": [
        "age_list = [15, 18, 20, 22]\n",
        "type(age_list)\n"
      ]
    },
    {
      "cell_type": "code",
      "execution_count": 17,
      "metadata": {},
      "outputs": [
        {
          "data": {
            "text/plain": [
              "20"
            ]
          },
          "execution_count": 17,
          "metadata": {},
          "output_type": "execute_result"
        }
      ],
      "source": [
        "age_list[2]\n"
      ]
    },
    {
      "cell_type": "code",
      "execution_count": 20,
      "metadata": {},
      "outputs": [
        {
          "data": {
            "text/plain": [
              "[15, 18, 20]"
            ]
          },
          "execution_count": 20,
          "metadata": {},
          "output_type": "execute_result"
        }
      ],
      "source": [
        "age_list[0:3]  # from 0 to 2 (3-1)\n"
      ]
    },
    {
      "cell_type": "code",
      "execution_count": 21,
      "metadata": {},
      "outputs": [
        {
          "data": {
            "text/plain": [
              "[18, 20, 22]"
            ]
          },
          "execution_count": 21,
          "metadata": {},
          "output_type": "execute_result"
        }
      ],
      "source": [
        "age_list[1:]  # from 1 to last\n"
      ]
    },
    {
      "cell_type": "code",
      "execution_count": 23,
      "metadata": {},
      "outputs": [
        {
          "data": {
            "text/plain": [
              "22"
            ]
          },
          "execution_count": 23,
          "metadata": {},
          "output_type": "execute_result"
        }
      ],
      "source": [
        "age_list[-1]  # 0 -3 -2 -1\n"
      ]
    },
    {
      "cell_type": "markdown",
      "metadata": {},
      "source": [
        "# Loops"
      ]
    },
    {
      "cell_type": "code",
      "execution_count": 40,
      "metadata": {},
      "outputs": [
        {
          "name": "stdout",
          "output_type": "stream",
          "text": [
            " Your are 15 years old, you can not drive.\n",
            " Your are 18 years old, you can drive.\n",
            " Your are 20 years old, you can drive.\n",
            " Your are 22 years old, you can drive.\n"
          ]
        }
      ],
      "source": [
        "age_list = [15, 18, 20, 22]\n",
        "\n",
        "# for outside function\n",
        "\n",
        "def can_drive(age):\n",
        "    if age >= 18:\n",
        "        print(f' Your are {age} years old, you can drive.')\n",
        "    else:\n",
        "        print(f' Your are {age} years old, you can not drive.')\n",
        "\n",
        "\n",
        "for age in age_list:\n",
        "    can_drive(age)\n"
      ]
    },
    {
      "cell_type": "code",
      "execution_count": 29,
      "metadata": {},
      "outputs": [
        {
          "name": "stdout",
          "output_type": "stream",
          "text": [
            " Your are 15 years old, you can not drive.\n",
            " Your are 18 years old, you can drive.\n",
            " Your are 20 years old, you can drive.\n",
            " Your are 22 years old, you can drive.\n"
          ]
        }
      ],
      "source": [
        "# for inside function\n",
        "\n",
        "def can_drive(age_list):\n",
        "    for age in age_list:\n",
        "        if age >= 18:\n",
        "            print(f' Your are {age} years old, you can drive.')\n",
        "        else:\n",
        "            print(f' Your are {age} years old, you can not drive.')\n",
        "\n",
        "\n",
        "can_drive(age_list)\n"
      ]
    },
    {
      "cell_type": "markdown",
      "metadata": {},
      "source": [
        "# Boolean"
      ]
    },
    {
      "cell_type": "code",
      "execution_count": 33,
      "metadata": {},
      "outputs": [
        {
          "data": {
            "text/plain": [
              "True"
            ]
          },
          "execution_count": 33,
          "metadata": {},
          "output_type": "execute_result"
        }
      ],
      "source": [
        "age = 18\n",
        "age >= 18"
      ]
    },
    {
      "cell_type": "code",
      "execution_count": 37,
      "metadata": {},
      "outputs": [
        {
          "name": "stdout",
          "output_type": "stream",
          "text": [
            "[True, False, True]\n"
          ]
        }
      ],
      "source": [
        "permissions = []\n",
        "age_list = [20, 14, 40]\n",
        "\n",
        "\n",
        "def can_drive(age_list, permissions):\n",
        "    for age in age_list:\n",
        "        if age >= 18:\n",
        "            permissions.append(True)\n",
        "        else:\n",
        "            permissions.append(False)\n",
        "\n",
        "\n",
        "can_drive(age_list, permissions)\n",
        "print(permissions)\n"
      ]
    },
    {
      "cell_type": "code",
      "execution_count": 39,
      "metadata": {},
      "outputs": [
        {
          "name": "stdout",
          "output_type": "stream",
          "text": [
            "You can drive.\n",
            "You can not drive.\n",
            "You can drive.\n"
          ]
        }
      ],
      "source": [
        "for permission in permissions:\n",
        "    if permission == True:\n",
        "        print('You can drive.')\n",
        "    else:\n",
        "        print('You can not drive.')\n"
      ]
    }
  ],
  "metadata": {
    "colab": {
      "provenance": []
    },
    "kernelspec": {
      "display_name": "Python 3.10.7 64-bit",
      "language": "python",
      "name": "python3"
    },
    "language_info": {
      "codemirror_mode": {
        "name": "ipython",
        "version": 3
      },
      "file_extension": ".py",
      "mimetype": "text/x-python",
      "name": "python",
      "nbconvert_exporter": "python",
      "pygments_lexer": "ipython3",
      "version": "3.10.7"
    },
    "vscode": {
      "interpreter": {
        "hash": "413f823884445dfa7b0c357959fdb4fe304155c50a7c486c393acc7d26d62846"
      }
    }
  },
  "nbformat": 4,
  "nbformat_minor": 0
}
