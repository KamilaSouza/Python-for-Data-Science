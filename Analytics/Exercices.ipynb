{
 "cells": [
  {
   "cell_type": "markdown",
   "metadata": {},
   "source": [
    "# Missão\n",
    "- Importar as tabelas enviadas em excel (Vendas, TbProduto, TbMeta) para um banco de dados relacional (My SQL, SQLite, SQL Server ou preferencialmente PostgreSQL)\n",
    "- Ou importar para uma estrutura de dados do Python (lista ou dicionário ou preferencialmente dataframe pandas)"
   ]
  },
  {
   "cell_type": "markdown",
   "metadata": {},
   "source": [
    "Importação das estruturas de dados em Python utilizando Pandas"
   ]
  },
  {
   "cell_type": "code",
   "execution_count": 102,
   "metadata": {},
   "outputs": [],
   "source": [
    "import pandas as pd\n",
    "pd.set_option('display.max_rows', 100)\n",
    "pd.set_option('display.max_column', 100)"
   ]
  },
  {
   "cell_type": "code",
   "execution_count": 211,
   "metadata": {},
   "outputs": [],
   "source": [
    "vendas = pd.read_excel('Dados2021vmar22.xlsx', sheet_name='Vendas') #index_col=2\n",
    "produto = pd.read_excel('DadosProdutos.xlsx', sheet_name='TbProduto')\n",
    "meta = pd.read_excel('DadosProdutos.xlsx', sheet_name='TbMeta')"
   ]
  },
  {
   "cell_type": "markdown",
   "metadata": {},
   "source": [
    "# Questões - 1\n",
    "Qual é o Cliente com maior quantidade de itens comprados no ano de 2021? Qual a quantidade de itens comprados por ele?\n",
    "\n",
    "Cliente 53, com 1305 itens comprados."
   ]
  },
  {
   "cell_type": "code",
   "execution_count": 325,
   "metadata": {},
   "outputs": [],
   "source": [
    "q1 = vendas.groupby(['IDCliente']).sum('Quantidade').sort_values('Quantidade', ascending=False).iloc[0:5]"
   ]
  },
  {
   "cell_type": "code",
   "execution_count": 326,
   "metadata": {},
   "outputs": [
    {
     "data": {
      "text/html": [
       "<div>\n",
       "<style scoped>\n",
       "    .dataframe tbody tr th:only-of-type {\n",
       "        vertical-align: middle;\n",
       "    }\n",
       "\n",
       "    .dataframe tbody tr th {\n",
       "        vertical-align: top;\n",
       "    }\n",
       "\n",
       "    .dataframe thead th {\n",
       "        text-align: right;\n",
       "    }\n",
       "</style>\n",
       "<table border=\"1\" class=\"dataframe\">\n",
       "  <thead>\n",
       "    <tr style=\"text-align: right;\">\n",
       "      <th></th>\n",
       "      <th>IDProduto</th>\n",
       "      <th>Quantidade</th>\n",
       "      <th>PreçoUnitário</th>\n",
       "      <th>CustoUnitário</th>\n",
       "    </tr>\n",
       "    <tr>\n",
       "      <th>IDCliente</th>\n",
       "      <th></th>\n",
       "      <th></th>\n",
       "      <th></th>\n",
       "      <th></th>\n",
       "    </tr>\n",
       "  </thead>\n",
       "  <tbody>\n",
       "    <tr>\n",
       "      <th>53</th>\n",
       "      <td>2182</td>\n",
       "      <td>1305</td>\n",
       "      <td>336738.2</td>\n",
       "      <td>197389.0350</td>\n",
       "    </tr>\n",
       "    <tr>\n",
       "      <th>80</th>\n",
       "      <td>2288</td>\n",
       "      <td>1192</td>\n",
       "      <td>303756.3</td>\n",
       "      <td>162868.2498</td>\n",
       "    </tr>\n",
       "    <tr>\n",
       "      <th>4</th>\n",
       "      <td>1642</td>\n",
       "      <td>1121</td>\n",
       "      <td>266334.8</td>\n",
       "      <td>145749.8637</td>\n",
       "    </tr>\n",
       "    <tr>\n",
       "      <th>109</th>\n",
       "      <td>1704</td>\n",
       "      <td>1084</td>\n",
       "      <td>295352.5</td>\n",
       "      <td>175665.3570</td>\n",
       "    </tr>\n",
       "    <tr>\n",
       "      <th>107</th>\n",
       "      <td>1435</td>\n",
       "      <td>1077</td>\n",
       "      <td>235773.2</td>\n",
       "      <td>125691.7923</td>\n",
       "    </tr>\n",
       "  </tbody>\n",
       "</table>\n",
       "</div>"
      ],
      "text/plain": [
       "           IDProduto  Quantidade  PreçoUnitário  CustoUnitário\n",
       "IDCliente                                                     \n",
       "53              2182        1305       336738.2    197389.0350\n",
       "80              2288        1192       303756.3    162868.2498\n",
       "4               1642        1121       266334.8    145749.8637\n",
       "109             1704        1084       295352.5    175665.3570\n",
       "107             1435        1077       235773.2    125691.7923"
      ]
     },
     "execution_count": 326,
     "metadata": {},
     "output_type": "execute_result"
    }
   ],
   "source": [
    "q1"
   ]
  },
  {
   "cell_type": "markdown",
   "metadata": {},
   "source": [
    "# 2 \n",
    "Qual produto apresentou a maior margem absoluta (R$) em 2021? Qual o valor da margem absoluta dele?  \n",
    "Obs: Margem Absoluta = Receita(quantidade * preço_unitário) - Impostos (Receita * % Imposto do produto) - Custo total (custo_unit * quantidade)\n",
    "\n",
    "O produto que apresentou maior margem absoluta foi o 5, com margem absuta de 39115.7325"
   ]
  },
  {
   "cell_type": "code",
   "execution_count": 300,
   "metadata": {},
   "outputs": [],
   "source": [
    "q2 = vendas.copy()"
   ]
  },
  {
   "cell_type": "code",
   "execution_count": 301,
   "metadata": {},
   "outputs": [],
   "source": [
    "q2 = vendas.merge(produto, on='IDProduto', how='left')"
   ]
  },
  {
   "cell_type": "code",
   "execution_count": 302,
   "metadata": {},
   "outputs": [],
   "source": [
    "q2.insert(10, 'Receita', (q2['Quantidade'] * q2['PreçoUnitário']))"
   ]
  },
  {
   "cell_type": "code",
   "execution_count": 303,
   "metadata": {},
   "outputs": [],
   "source": [
    "q2.insert(11, 'CalculoImposto', (q2['Receita'] * q2['Imposto']))"
   ]
  },
  {
   "cell_type": "code",
   "execution_count": 304,
   "metadata": {},
   "outputs": [],
   "source": [
    "q2.insert(12, 'CustoTotal', (q2['CustoUnitário'] * q2['Quantidade']))"
   ]
  },
  {
   "cell_type": "code",
   "execution_count": 305,
   "metadata": {},
   "outputs": [],
   "source": [
    "q2.insert(13, 'MargemAbsoluta', (q2['Receita'] - (q2['CalculoImposto']) - (q2['CustoTotal'])))"
   ]
  },
  {
   "cell_type": "code",
   "execution_count": 306,
   "metadata": {},
   "outputs": [
    {
     "data": {
      "text/html": [
       "<div>\n",
       "<style scoped>\n",
       "    .dataframe tbody tr th:only-of-type {\n",
       "        vertical-align: middle;\n",
       "    }\n",
       "\n",
       "    .dataframe tbody tr th {\n",
       "        vertical-align: top;\n",
       "    }\n",
       "\n",
       "    .dataframe thead th {\n",
       "        text-align: right;\n",
       "    }\n",
       "</style>\n",
       "<table border=\"1\" class=\"dataframe\">\n",
       "  <thead>\n",
       "    <tr style=\"text-align: right;\">\n",
       "      <th></th>\n",
       "      <th>Pedido</th>\n",
       "      <th>Data</th>\n",
       "      <th>IDCliente</th>\n",
       "      <th>IDProduto</th>\n",
       "      <th>Quantidade</th>\n",
       "      <th>PreçoUnitário</th>\n",
       "      <th>CustoUnitário</th>\n",
       "      <th>Produto</th>\n",
       "      <th>Grupo</th>\n",
       "      <th>Imposto</th>\n",
       "      <th>Receita</th>\n",
       "      <th>CalculoImposto</th>\n",
       "      <th>CustoTotal</th>\n",
       "      <th>MargemAbsoluta</th>\n",
       "    </tr>\n",
       "  </thead>\n",
       "  <tbody>\n",
       "    <tr>\n",
       "      <th>12297</th>\n",
       "      <td>DT - 44460151</td>\n",
       "      <td>2021-09-21</td>\n",
       "      <td>151</td>\n",
       "      <td>5</td>\n",
       "      <td>13</td>\n",
       "      <td>5864.1</td>\n",
       "      <td>2268.7875</td>\n",
       "      <td>Produto 5</td>\n",
       "      <td>A</td>\n",
       "      <td>0.10</td>\n",
       "      <td>76233.3</td>\n",
       "      <td>7623.330</td>\n",
       "      <td>29494.2375</td>\n",
       "      <td>39115.7325</td>\n",
       "    </tr>\n",
       "    <tr>\n",
       "      <th>13845</th>\n",
       "      <td>EX - 44469171</td>\n",
       "      <td>2021-09-30</td>\n",
       "      <td>171</td>\n",
       "      <td>5</td>\n",
       "      <td>13</td>\n",
       "      <td>6252.7</td>\n",
       "      <td>2644.2153</td>\n",
       "      <td>Produto 5</td>\n",
       "      <td>A</td>\n",
       "      <td>0.10</td>\n",
       "      <td>81285.1</td>\n",
       "      <td>8128.510</td>\n",
       "      <td>34374.7989</td>\n",
       "      <td>38781.7911</td>\n",
       "    </tr>\n",
       "    <tr>\n",
       "      <th>13827</th>\n",
       "      <td>EX - 44373171</td>\n",
       "      <td>2021-06-26</td>\n",
       "      <td>171</td>\n",
       "      <td>5</td>\n",
       "      <td>13</td>\n",
       "      <td>6252.7</td>\n",
       "      <td>2644.2153</td>\n",
       "      <td>Produto 5</td>\n",
       "      <td>A</td>\n",
       "      <td>0.10</td>\n",
       "      <td>81285.1</td>\n",
       "      <td>8128.510</td>\n",
       "      <td>34374.7989</td>\n",
       "      <td>38781.7911</td>\n",
       "    </tr>\n",
       "    <tr>\n",
       "      <th>13854</th>\n",
       "      <td>EX - 44508171</td>\n",
       "      <td>2021-11-08</td>\n",
       "      <td>171</td>\n",
       "      <td>5</td>\n",
       "      <td>13</td>\n",
       "      <td>6252.7</td>\n",
       "      <td>2644.2153</td>\n",
       "      <td>Produto 5</td>\n",
       "      <td>A</td>\n",
       "      <td>0.10</td>\n",
       "      <td>81285.1</td>\n",
       "      <td>8128.510</td>\n",
       "      <td>34374.7989</td>\n",
       "      <td>38781.7911</td>\n",
       "    </tr>\n",
       "    <tr>\n",
       "      <th>8413</th>\n",
       "      <td>VA - 44226104</td>\n",
       "      <td>2021-01-30</td>\n",
       "      <td>104</td>\n",
       "      <td>4</td>\n",
       "      <td>13</td>\n",
       "      <td>6252.7</td>\n",
       "      <td>2644.2153</td>\n",
       "      <td>Produto 4</td>\n",
       "      <td>A</td>\n",
       "      <td>0.10</td>\n",
       "      <td>81285.1</td>\n",
       "      <td>8128.510</td>\n",
       "      <td>34374.7989</td>\n",
       "      <td>38781.7911</td>\n",
       "    </tr>\n",
       "    <tr>\n",
       "      <th>...</th>\n",
       "      <td>...</td>\n",
       "      <td>...</td>\n",
       "      <td>...</td>\n",
       "      <td>...</td>\n",
       "      <td>...</td>\n",
       "      <td>...</td>\n",
       "      <td>...</td>\n",
       "      <td>...</td>\n",
       "      <td>...</td>\n",
       "      <td>...</td>\n",
       "      <td>...</td>\n",
       "      <td>...</td>\n",
       "      <td>...</td>\n",
       "      <td>...</td>\n",
       "    </tr>\n",
       "    <tr>\n",
       "      <th>6101</th>\n",
       "      <td>DT - 4452975</td>\n",
       "      <td>2021-11-29</td>\n",
       "      <td>75</td>\n",
       "      <td>13</td>\n",
       "      <td>7</td>\n",
       "      <td>256.2</td>\n",
       "      <td>194.7690</td>\n",
       "      <td>Produto 13</td>\n",
       "      <td>C</td>\n",
       "      <td>0.21</td>\n",
       "      <td>1793.4</td>\n",
       "      <td>376.614</td>\n",
       "      <td>1363.3830</td>\n",
       "      <td>53.4030</td>\n",
       "    </tr>\n",
       "    <tr>\n",
       "      <th>6069</th>\n",
       "      <td>DT - 4435875</td>\n",
       "      <td>2021-06-11</td>\n",
       "      <td>75</td>\n",
       "      <td>13</td>\n",
       "      <td>7</td>\n",
       "      <td>256.2</td>\n",
       "      <td>194.7690</td>\n",
       "      <td>Produto 13</td>\n",
       "      <td>C</td>\n",
       "      <td>0.21</td>\n",
       "      <td>1793.4</td>\n",
       "      <td>376.614</td>\n",
       "      <td>1363.3830</td>\n",
       "      <td>53.4030</td>\n",
       "    </tr>\n",
       "    <tr>\n",
       "      <th>10753</th>\n",
       "      <td>VA - 44431132</td>\n",
       "      <td>2021-08-23</td>\n",
       "      <td>132</td>\n",
       "      <td>16</td>\n",
       "      <td>6</td>\n",
       "      <td>256.2</td>\n",
       "      <td>194.7690</td>\n",
       "      <td>Produto 16</td>\n",
       "      <td>C</td>\n",
       "      <td>0.21</td>\n",
       "      <td>1537.2</td>\n",
       "      <td>322.812</td>\n",
       "      <td>1168.6140</td>\n",
       "      <td>45.7740</td>\n",
       "    </tr>\n",
       "    <tr>\n",
       "      <th>10769</th>\n",
       "      <td>VA - 44483132</td>\n",
       "      <td>2021-10-14</td>\n",
       "      <td>132</td>\n",
       "      <td>16</td>\n",
       "      <td>6</td>\n",
       "      <td>256.2</td>\n",
       "      <td>194.7690</td>\n",
       "      <td>Produto 16</td>\n",
       "      <td>C</td>\n",
       "      <td>0.21</td>\n",
       "      <td>1537.2</td>\n",
       "      <td>322.812</td>\n",
       "      <td>1168.6140</td>\n",
       "      <td>45.7740</td>\n",
       "    </tr>\n",
       "    <tr>\n",
       "      <th>10771</th>\n",
       "      <td>VA - 44489132</td>\n",
       "      <td>2021-10-20</td>\n",
       "      <td>132</td>\n",
       "      <td>16</td>\n",
       "      <td>6</td>\n",
       "      <td>256.2</td>\n",
       "      <td>194.7690</td>\n",
       "      <td>Produto 16</td>\n",
       "      <td>C</td>\n",
       "      <td>0.21</td>\n",
       "      <td>1537.2</td>\n",
       "      <td>322.812</td>\n",
       "      <td>1168.6140</td>\n",
       "      <td>45.7740</td>\n",
       "    </tr>\n",
       "  </tbody>\n",
       "</table>\n",
       "<p>14133 rows × 14 columns</p>\n",
       "</div>"
      ],
      "text/plain": [
       "              Pedido       Data  IDCliente  IDProduto  Quantidade  \\\n",
       "12297  DT - 44460151 2021-09-21        151          5          13   \n",
       "13845  EX - 44469171 2021-09-30        171          5          13   \n",
       "13827  EX - 44373171 2021-06-26        171          5          13   \n",
       "13854  EX - 44508171 2021-11-08        171          5          13   \n",
       "8413   VA - 44226104 2021-01-30        104          4          13   \n",
       "...              ...        ...        ...        ...         ...   \n",
       "6101    DT - 4452975 2021-11-29         75         13           7   \n",
       "6069    DT - 4435875 2021-06-11         75         13           7   \n",
       "10753  VA - 44431132 2021-08-23        132         16           6   \n",
       "10769  VA - 44483132 2021-10-14        132         16           6   \n",
       "10771  VA - 44489132 2021-10-20        132         16           6   \n",
       "\n",
       "       PreçoUnitário  CustoUnitário     Produto Grupo  Imposto  Receita  \\\n",
       "12297         5864.1      2268.7875   Produto 5     A     0.10  76233.3   \n",
       "13845         6252.7      2644.2153   Produto 5     A     0.10  81285.1   \n",
       "13827         6252.7      2644.2153   Produto 5     A     0.10  81285.1   \n",
       "13854         6252.7      2644.2153   Produto 5     A     0.10  81285.1   \n",
       "8413          6252.7      2644.2153   Produto 4     A     0.10  81285.1   \n",
       "...              ...            ...         ...   ...      ...      ...   \n",
       "6101           256.2       194.7690  Produto 13     C     0.21   1793.4   \n",
       "6069           256.2       194.7690  Produto 13     C     0.21   1793.4   \n",
       "10753          256.2       194.7690  Produto 16     C     0.21   1537.2   \n",
       "10769          256.2       194.7690  Produto 16     C     0.21   1537.2   \n",
       "10771          256.2       194.7690  Produto 16     C     0.21   1537.2   \n",
       "\n",
       "       CalculoImposto  CustoTotal  MargemAbsoluta  \n",
       "12297        7623.330  29494.2375      39115.7325  \n",
       "13845        8128.510  34374.7989      38781.7911  \n",
       "13827        8128.510  34374.7989      38781.7911  \n",
       "13854        8128.510  34374.7989      38781.7911  \n",
       "8413         8128.510  34374.7989      38781.7911  \n",
       "...               ...         ...             ...  \n",
       "6101          376.614   1363.3830         53.4030  \n",
       "6069          376.614   1363.3830         53.4030  \n",
       "10753         322.812   1168.6140         45.7740  \n",
       "10769         322.812   1168.6140         45.7740  \n",
       "10771         322.812   1168.6140         45.7740  \n",
       "\n",
       "[14133 rows x 14 columns]"
      ]
     },
     "execution_count": 306,
     "metadata": {},
     "output_type": "execute_result"
    }
   ],
   "source": [
    "q2.sort_values('MargemAbsoluta', ascending=False)"
   ]
  },
  {
   "cell_type": "markdown",
   "metadata": {},
   "source": [
    "# 3\n",
    "Qual produto apresentou a maior margem percentual (%) em 2021? Qual é a margem percentual dele?\n",
    "\n",
    "Obs: Margem % = Margem Absoluta / (Receita - Impostos). Considerando todas as vendas do ano de 2021. \n",
    "\n",
    "O produto que apresentou maior margem percentual foi o produto 2, com margem percentual de 0.603641"
   ]
  },
  {
   "cell_type": "code",
   "execution_count": 307,
   "metadata": {},
   "outputs": [],
   "source": [
    "q3 = q2.copy()"
   ]
  },
  {
   "cell_type": "code",
   "execution_count": 308,
   "metadata": {},
   "outputs": [],
   "source": [
    "q3.insert(14, 'MargemPercentual', (q3['MargemAbsoluta'] / (q3['Receita'] - (q3['CalculoImposto']))))"
   ]
  },
  {
   "cell_type": "code",
   "execution_count": 309,
   "metadata": {},
   "outputs": [
    {
     "data": {
      "text/html": [
       "<div>\n",
       "<style scoped>\n",
       "    .dataframe tbody tr th:only-of-type {\n",
       "        vertical-align: middle;\n",
       "    }\n",
       "\n",
       "    .dataframe tbody tr th {\n",
       "        vertical-align: top;\n",
       "    }\n",
       "\n",
       "    .dataframe thead th {\n",
       "        text-align: right;\n",
       "    }\n",
       "</style>\n",
       "<table border=\"1\" class=\"dataframe\">\n",
       "  <thead>\n",
       "    <tr style=\"text-align: right;\">\n",
       "      <th></th>\n",
       "      <th>Pedido</th>\n",
       "      <th>Data</th>\n",
       "      <th>IDCliente</th>\n",
       "      <th>IDProduto</th>\n",
       "      <th>Quantidade</th>\n",
       "      <th>PreçoUnitário</th>\n",
       "      <th>CustoUnitário</th>\n",
       "      <th>Produto</th>\n",
       "      <th>Grupo</th>\n",
       "      <th>Imposto</th>\n",
       "      <th>Receita</th>\n",
       "      <th>CalculoImposto</th>\n",
       "      <th>CustoTotal</th>\n",
       "      <th>MargemAbsoluta</th>\n",
       "      <th>MargemPercentual</th>\n",
       "    </tr>\n",
       "  </thead>\n",
       "  <tbody>\n",
       "    <tr>\n",
       "      <th>2211</th>\n",
       "      <td>DT - 4431829</td>\n",
       "      <td>2021-05-02</td>\n",
       "      <td>29</td>\n",
       "      <td>2</td>\n",
       "      <td>7</td>\n",
       "      <td>175.8</td>\n",
       "      <td>62.712</td>\n",
       "      <td>Produto 2</td>\n",
       "      <td>A</td>\n",
       "      <td>0.1</td>\n",
       "      <td>1230.6</td>\n",
       "      <td>123.06</td>\n",
       "      <td>438.984</td>\n",
       "      <td>668.556</td>\n",
       "      <td>0.603641</td>\n",
       "    </tr>\n",
       "    <tr>\n",
       "      <th>2221</th>\n",
       "      <td>DT - 4436629</td>\n",
       "      <td>2021-06-19</td>\n",
       "      <td>29</td>\n",
       "      <td>2</td>\n",
       "      <td>7</td>\n",
       "      <td>175.8</td>\n",
       "      <td>62.712</td>\n",
       "      <td>Produto 2</td>\n",
       "      <td>A</td>\n",
       "      <td>0.1</td>\n",
       "      <td>1230.6</td>\n",
       "      <td>123.06</td>\n",
       "      <td>438.984</td>\n",
       "      <td>668.556</td>\n",
       "      <td>0.603641</td>\n",
       "    </tr>\n",
       "    <tr>\n",
       "      <th>2225</th>\n",
       "      <td>DT - 4440029</td>\n",
       "      <td>2021-07-23</td>\n",
       "      <td>29</td>\n",
       "      <td>2</td>\n",
       "      <td>7</td>\n",
       "      <td>175.8</td>\n",
       "      <td>62.712</td>\n",
       "      <td>Produto 2</td>\n",
       "      <td>A</td>\n",
       "      <td>0.1</td>\n",
       "      <td>1230.6</td>\n",
       "      <td>123.06</td>\n",
       "      <td>438.984</td>\n",
       "      <td>668.556</td>\n",
       "      <td>0.603641</td>\n",
       "    </tr>\n",
       "    <tr>\n",
       "      <th>4623</th>\n",
       "      <td>VA - 4448757</td>\n",
       "      <td>2021-10-18</td>\n",
       "      <td>57</td>\n",
       "      <td>5</td>\n",
       "      <td>8</td>\n",
       "      <td>195.9</td>\n",
       "      <td>69.948</td>\n",
       "      <td>Produto 5</td>\n",
       "      <td>A</td>\n",
       "      <td>0.1</td>\n",
       "      <td>1567.2</td>\n",
       "      <td>156.72</td>\n",
       "      <td>559.584</td>\n",
       "      <td>850.896</td>\n",
       "      <td>0.603267</td>\n",
       "    </tr>\n",
       "    <tr>\n",
       "      <th>7297</th>\n",
       "      <td>VA - 4452489</td>\n",
       "      <td>2021-11-24</td>\n",
       "      <td>89</td>\n",
       "      <td>6</td>\n",
       "      <td>10</td>\n",
       "      <td>202.6</td>\n",
       "      <td>72.360</td>\n",
       "      <td>Produto 6</td>\n",
       "      <td>A</td>\n",
       "      <td>0.1</td>\n",
       "      <td>2026.0</td>\n",
       "      <td>202.60</td>\n",
       "      <td>723.600</td>\n",
       "      <td>1099.800</td>\n",
       "      <td>0.603159</td>\n",
       "    </tr>\n",
       "  </tbody>\n",
       "</table>\n",
       "</div>"
      ],
      "text/plain": [
       "            Pedido       Data  IDCliente  IDProduto  Quantidade  \\\n",
       "2211  DT - 4431829 2021-05-02         29          2           7   \n",
       "2221  DT - 4436629 2021-06-19         29          2           7   \n",
       "2225  DT - 4440029 2021-07-23         29          2           7   \n",
       "4623  VA - 4448757 2021-10-18         57          5           8   \n",
       "7297  VA - 4452489 2021-11-24         89          6          10   \n",
       "\n",
       "      PreçoUnitário  CustoUnitário    Produto Grupo  Imposto  Receita  \\\n",
       "2211          175.8         62.712  Produto 2     A      0.1   1230.6   \n",
       "2221          175.8         62.712  Produto 2     A      0.1   1230.6   \n",
       "2225          175.8         62.712  Produto 2     A      0.1   1230.6   \n",
       "4623          195.9         69.948  Produto 5     A      0.1   1567.2   \n",
       "7297          202.6         72.360  Produto 6     A      0.1   2026.0   \n",
       "\n",
       "      CalculoImposto  CustoTotal  MargemAbsoluta  MargemPercentual  \n",
       "2211          123.06     438.984         668.556          0.603641  \n",
       "2221          123.06     438.984         668.556          0.603641  \n",
       "2225          123.06     438.984         668.556          0.603641  \n",
       "4623          156.72     559.584         850.896          0.603267  \n",
       "7297          202.60     723.600        1099.800          0.603159  "
      ]
     },
     "execution_count": 309,
     "metadata": {},
     "output_type": "execute_result"
    }
   ],
   "source": [
    "q3.sort_values('MargemPercentual', ascending=False).iloc[0:5]"
   ]
  },
  {
   "cell_type": "markdown",
   "metadata": {},
   "source": [
    "# 4 \n",
    "Quais produtos não bateram meta no mês de maio de 2021. Compare a meta com a receita. Resultado deve ser uma lista de produtos\n",
    "\n",
    "Lista de resultados que não bateram meta: Produto 2, Produto 3, Produto 7, Produto 8, Produto 9, Produto 11, Produto 12, Produto 16, Produto 18, Produto 19, Produto 22, Produto 23, Produto 24."
   ]
  },
  {
   "cell_type": "code",
   "execution_count": 312,
   "metadata": {},
   "outputs": [],
   "source": [
    "q4 = vendas.copy()"
   ]
  },
  {
   "cell_type": "code",
   "execution_count": 313,
   "metadata": {},
   "outputs": [],
   "source": [
    "q4.insert(7, 'Receita', (q4['Quantidade'] * q4['PreçoUnitário']))"
   ]
  },
  {
   "cell_type": "code",
   "execution_count": 314,
   "metadata": {},
   "outputs": [],
   "source": [
    "q4['Data'] = pd.to_datetime(q4['Data']) \n",
    "mask = (q4['Data'] >= '2021-05-01') & (q4['Data'] <= '2021-05-31')"
   ]
  },
  {
   "cell_type": "code",
   "execution_count": 315,
   "metadata": {},
   "outputs": [],
   "source": [
    "q4_maio = q4.loc[mask].groupby(['IDProduto']).sum('Receita')"
   ]
  },
  {
   "cell_type": "code",
   "execution_count": 316,
   "metadata": {},
   "outputs": [],
   "source": [
    "receita_maio = q4_maio.merge(produto, on='IDProduto', how='left')"
   ]
  },
  {
   "cell_type": "code",
   "execution_count": 317,
   "metadata": {},
   "outputs": [],
   "source": [
    "mask_maio = (meta['Data'] == 'maio-2021')"
   ]
  },
  {
   "cell_type": "code",
   "execution_count": 318,
   "metadata": {},
   "outputs": [],
   "source": [
    "meta_maio = meta.loc[mask_maio]"
   ]
  },
  {
   "cell_type": "code",
   "execution_count": 319,
   "metadata": {},
   "outputs": [],
   "source": [
    "q4 = receita_maio.merge(meta_maio, on='Produto', how='left')"
   ]
  },
  {
   "cell_type": "code",
   "execution_count": 320,
   "metadata": {},
   "outputs": [],
   "source": [
    "q4.insert(11, 'NaoBateu', (q4['Receita'] - (q4['Meta'])))"
   ]
  },
  {
   "cell_type": "code",
   "execution_count": 321,
   "metadata": {},
   "outputs": [],
   "source": [
    "q4 = q4.drop(['IDCliente', 'Quantidade','IDProduto', 'PreçoUnitário', 'CustoUnitário', 'Receita', 'Grupo', 'Imposto', 'Data', 'Meta'], axis=1)"
   ]
  },
  {
   "cell_type": "code",
   "execution_count": 322,
   "metadata": {},
   "outputs": [],
   "source": [
    "lista_produto = q4[(q4['NaoBateu'] < 0)]"
   ]
  },
  {
   "cell_type": "code",
   "execution_count": 323,
   "metadata": {},
   "outputs": [],
   "source": [
    "lista_produto = lista_produto['Produto'].values.tolist()"
   ]
  },
  {
   "cell_type": "code",
   "execution_count": 324,
   "metadata": {},
   "outputs": [
    {
     "data": {
      "text/plain": [
       "['Produto 2',\n",
       " 'Produto 3',\n",
       " 'Produto 7',\n",
       " 'Produto 8',\n",
       " 'Produto 9',\n",
       " 'Produto 11',\n",
       " 'Produto 12',\n",
       " 'Produto 16',\n",
       " 'Produto 18',\n",
       " 'Produto 19',\n",
       " 'Produto 22',\n",
       " 'Produto 23',\n",
       " 'Produto 24']"
      ]
     },
     "execution_count": 324,
     "metadata": {},
     "output_type": "execute_result"
    }
   ],
   "source": [
    "lista_produto"
   ]
  }
 ],
 "metadata": {
  "kernelspec": {
   "display_name": "Python 3.10.7 64-bit",
   "language": "python",
   "name": "python3"
  },
  "language_info": {
   "codemirror_mode": {
    "name": "ipython",
    "version": 3
   },
   "file_extension": ".py",
   "mimetype": "text/x-python",
   "name": "python",
   "nbconvert_exporter": "python",
   "pygments_lexer": "ipython3",
   "version": "3.10.7"
  },
  "orig_nbformat": 4,
  "vscode": {
   "interpreter": {
    "hash": "413f823884445dfa7b0c357959fdb4fe304155c50a7c486c393acc7d26d62846"
   }
  }
 },
 "nbformat": 4,
 "nbformat_minor": 2
}
